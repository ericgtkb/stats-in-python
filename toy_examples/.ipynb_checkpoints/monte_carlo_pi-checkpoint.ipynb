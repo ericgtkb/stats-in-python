{
 "cells": [
  {
   "cell_type": "code",
   "execution_count": 1,
   "metadata": {},
   "outputs": [],
   "source": [
    "from ipywidgets import interact\n",
    "import numpy as np\n",
    "import matplotlib.pyplot as plt\n",
    "%matplotlib inline"
   ]
  },
  {
   "cell_type": "code",
   "execution_count": 29,
   "metadata": {},
   "outputs": [
    {
     "data": {
      "application/vnd.jupyter.widget-view+json": {
       "model_id": "af23e23c16e443d397b63a0b2ec85236",
       "version_major": 2,
       "version_minor": 0
      },
      "text/plain": [
       "interactive(children=(IntSlider(value=1, description='n', max=100000, min=1, step=1000), Output()), _dom_class…"
      ]
     },
     "metadata": {},
     "output_type": "display_data"
    }
   ],
   "source": [
    "@interact(n=(1, 100000, 1000))\n",
    "def estimate_pi(n=1):\n",
    "    coords = np.random.rand(n, 2)\n",
    "    is_inside = np.apply_along_axis(np.linalg.norm, 1, coords) < 1\n",
    "    plt.figure(figsize=(6, 6))\n",
    "    plt.scatter(coords[:, 0], coords[:, 1], c=is_inside, s=1, alpha=0.5)\n",
    "    plt.xlim((0,1))\n",
    "    plt.ylim((0,1))\n",
    "    plt.gca().set_aspect('equal')\n",
    "    print(\"The estimated value of pi with {} random samples is {}\".format(n, 4 * is_inside.sum() / n))\n"
   ]
  },
  {
   "cell_type": "code",
   "execution_count": null,
   "metadata": {},
   "outputs": [],
   "source": []
  }
 ],
 "metadata": {
  "kernelspec": {
   "display_name": "Python 3.7 (stats)",
   "language": "python",
   "name": "mstats"
  },
  "language_info": {
   "codemirror_mode": {
    "name": "ipython",
    "version": 3
   },
   "file_extension": ".py",
   "mimetype": "text/x-python",
   "name": "python",
   "nbconvert_exporter": "python",
   "pygments_lexer": "ipython3",
   "version": "3.7.4"
  }
 },
 "nbformat": 4,
 "nbformat_minor": 2
}
